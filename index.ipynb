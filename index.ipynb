{
 "cells": [
  {
   "cell_type": "markdown",
   "metadata": {},
   "source": [
    "# Part 1: Numpy practice"
   ]
  },
  {
   "cell_type": "markdown",
   "metadata": {},
   "source": [
    "(If you get stuck at one part, try the other part)\n",
    "\n",
    "Import the numpy library with the alias 'np'"
   ]
  },
  {
   "cell_type": "code",
   "execution_count": null,
   "metadata": {},
   "outputs": [],
   "source": []
  },
  {
   "cell_type": "code",
   "execution_count": 154,
   "metadata": {},
   "outputs": [],
   "source": [
    "#__SOLUTION__\n",
    "import numpy as np"
   ]
  },
  {
   "cell_type": "markdown",
   "metadata": {},
   "source": [
    "Create a variable called x that is a list of 100 0s"
   ]
  },
  {
   "cell_type": "code",
   "execution_count": null,
   "metadata": {},
   "outputs": [],
   "source": []
  },
  {
   "cell_type": "code",
   "execution_count": 155,
   "metadata": {},
   "outputs": [],
   "source": [
    "#__SOLUTION__\n",
    "\n",
    "x = [num for num in range(0,100)]\n",
    "\n",
    "#or\n",
    "x = [].extend(\n",
    "    range(0,100)\n",
    "    )\n",
    "\n",
    "#or\n",
    "x = []\n",
    "\n",
    "for num in range(0,100):\n",
    "    x.append(num)\n",
    "    \n",
    "#or\n",
    "\n",
    "x = [0]*100"
   ]
  },
  {
   "cell_type": "markdown",
   "metadata": {},
   "source": [
    "Find another way to create a list of 100 0s; assign it to a new variable called y"
   ]
  },
  {
   "cell_type": "code",
   "execution_count": null,
   "metadata": {},
   "outputs": [],
   "source": []
  },
  {
   "cell_type": "code",
   "execution_count": 156,
   "metadata": {},
   "outputs": [],
   "source": [
    "#__SOLUTION__\n",
    "\n",
    "y = [num for num in range(0,100)]\n",
    "\n",
    "#or\n",
    "y = [].extend(\n",
    "    range(0,100)\n",
    "    )\n",
    "\n",
    "#or\n",
    "y = []\n",
    "\n",
    "for num in range(0,100):\n",
    "    y.append(num)\n",
    "    \n",
    "#or\n",
    "\n",
    "y = [0]*100"
   ]
  },
  {
   "cell_type": "markdown",
   "metadata": {},
   "source": [
    "Turn x and y into numpy arrays"
   ]
  },
  {
   "cell_type": "code",
   "execution_count": null,
   "metadata": {},
   "outputs": [],
   "source": []
  },
  {
   "cell_type": "code",
   "execution_count": 157,
   "metadata": {},
   "outputs": [],
   "source": [
    "#__SOLUTION__\n",
    "\n",
    "x = np.array(x)\n",
    "\n",
    "y = np.array(y)"
   ]
  },
  {
   "cell_type": "markdown",
   "metadata": {},
   "source": [
    "In both x and y, insert the first 100 counting numbers in-between the 0s\n",
    "\n",
    "With x, start inserting counting numbers at position 1\n",
    "\n",
    "With y, start at position 0"
   ]
  },
  {
   "cell_type": "code",
   "execution_count": null,
   "metadata": {},
   "outputs": [],
   "source": []
  },
  {
   "cell_type": "code",
   "execution_count": 158,
   "metadata": {},
   "outputs": [],
   "source": [
    "#__SOLUTION__\n",
    "\n",
    "x = np.insert(x, range(0, 100), range(1,101)) \n",
    "\n",
    "y = np.insert(y, range(1,101), range(1,101))"
   ]
  },
  {
   "cell_type": "markdown",
   "metadata": {},
   "source": [
    "Remove all the 0s from both x and y\n",
    "\n",
    "Use different methods of removal for x and y"
   ]
  },
  {
   "cell_type": "code",
   "execution_count": null,
   "metadata": {},
   "outputs": [],
   "source": []
  },
  {
   "cell_type": "code",
   "execution_count": 159,
   "metadata": {},
   "outputs": [],
   "source": [
    "#__SOLUTION__\n",
    "\n",
    "x = x[x!=0]\n",
    "\n",
    "y = y[1::2]"
   ]
  },
  {
   "cell_type": "markdown",
   "metadata": {},
   "source": [
    "# Part 2: Estimating pi (with vis!)\n",
    "\n",
    "Let's first import pyplot from matplotlib under the alias plt\n",
    "\n",
    "(Also, run the commend %matplotlib inline so that jupyter renders the plots inside the notebook)"
   ]
  },
  {
   "cell_type": "code",
   "execution_count": null,
   "metadata": {},
   "outputs": [],
   "source": []
  },
  {
   "cell_type": "code",
   "execution_count": 481,
   "metadata": {},
   "outputs": [],
   "source": [
    "#__SOLUTION__\n",
    "\n",
    "import matplotlib.pyplot as plt\n",
    "\n",
    "%matplotlib inline"
   ]
  },
  {
   "cell_type": "markdown",
   "metadata": {},
   "source": [
    "Picture a circle perfectly circumscribed inside a unit square\n",
    "\n",
    "The radius of the circle is $\\frac{1}{2}$, and the area of the circle is $\\pi \\times (\\frac{1}{2})^2 = \\frac{\\pi}{4}$\n",
    "\n",
    "If we randomly throw enough points inside that square: \n",
    "\n",
    " $$ \\frac{\\mbox{points that land in circle}}{\\mbox{total points}} \\approx \\frac{\\pi}{4} $$"
   ]
  },
  {
   "cell_type": "markdown",
   "metadata": {},
   "source": [
    "so\n",
    "\n",
    "$$ 4 \\times \\frac{\\mbox{points that land in circle}}{\\mbox{total points}} \\approx \\pi $$"
   ]
  },
  {
   "cell_type": "markdown",
   "metadata": {},
   "source": [
    "We're going to create a plot that, inside of a unit square whose lower-left corner is at (0,0):\n",
    "- plots 1000 random points\n",
    "- colors them differently if they're inside or outside the circle\n",
    "- calculates the error of the estimate of pi and prints it as the title of the graph"
   ]
  },
  {
   "cell_type": "markdown",
   "metadata": {},
   "source": [
    "First we're going to create the points to throw inside the square.\n",
    "\n",
    "Use numpy to create a variable x that has 1000 randomly drawn numbers between 0 and 1.\n",
    "\n",
    "Use numpy to creat another variable y that has a different set of 1000 randomly-drawn numbers b/t 0 and 1.\n",
    "\n",
    "(These are the x and y coordinates for the random points we'll throw at the square and inscribed circle)"
   ]
  },
  {
   "cell_type": "code",
   "execution_count": null,
   "metadata": {},
   "outputs": [],
   "source": []
  },
  {
   "cell_type": "code",
   "execution_count": 446,
   "metadata": {},
   "outputs": [],
   "source": [
    "#__SOLUTION__\n",
    "\n",
    "x = np.random.random(int(1000))\n",
    "y = np.random.random(int(1000))"
   ]
  },
  {
   "cell_type": "markdown",
   "metadata": {},
   "source": [
    "Select all the points in x that satisfy the condition\n",
    "$$ (x^2 + y^2)<=\\frac{1}{2} $$\n",
    "and assign them to the variable inside_x\n",
    "\n",
    "Do the same thing for the points in y, and assign them to the variable inside_y\n",
    "\n",
    "(These are the x and y coordinates of the points inside the circle)\n",
    "\n",
    "<i>Hint: the formula for a circle centered at (h,k) with radius r is</i> \n",
    "    $$(x-h)^2 + (y-k)^2 = r^2$$\n",
    "<i>Where is the center of a circle inscribed in a unit square whose lower-left corner is at (0,0)?</i>"
   ]
  },
  {
   "cell_type": "code",
   "execution_count": null,
   "metadata": {},
   "outputs": [],
   "source": []
  },
  {
   "cell_type": "code",
   "execution_count": 447,
   "metadata": {},
   "outputs": [],
   "source": [
    "#__SOLUTION__\n",
    "\n",
    "inside_x,  inside_y  = x[(x-.5)**2+(y-.5)**2<(.5)**2], y[(x-.5)**2+(y-.5)**2<(.5)**2]"
   ]
  },
  {
   "cell_type": "markdown",
   "metadata": {},
   "source": [
    "Do the same thing for the points that lie within the square but outside the circle\n",
    "\n",
    "Ie, select all the points in x and y that satisfy the condition\n",
    "$$ (x^2 + y^2)>\\frac{1}{2} $$\n",
    "assign them to the variables outside_x and outside_y, respectively"
   ]
  },
  {
   "cell_type": "code",
   "execution_count": null,
   "metadata": {},
   "outputs": [],
   "source": []
  },
  {
   "cell_type": "code",
   "execution_count": 448,
   "metadata": {},
   "outputs": [],
   "source": [
    "#__SOLUTION__\n",
    "\n",
    "outside_x, outside_y = x[(x-.5)**2+(y-.5)**2>(.5)**2], y[(x-.5)**2+(y-.5)**2>(.5)**2]"
   ]
  },
  {
   "cell_type": "markdown",
   "metadata": {},
   "source": [
    "Now we'll calculate our $\\pi$ estimate and the error from that estimate\n",
    "\n",
    "Create the following variables:\n",
    "- the number of pts inside the circle\n",
    "    - name this variable pts_in_circle\n",
    "    \n",
    "    \n",
    "- the number of pts outside the circle\n",
    "    - name this variable pts_out_circle\n",
    "    \n",
    "    \n",
    "- an estimate for $\\pi$ that uses pts_in_circle and pts_out_circle\n",
    "    - name this variable pi_est\n",
    "\n",
    "    \n",
    "- a calculation of the pct error of pi_est \n",
    "    - name this variable pi_est_error_pct"
   ]
  },
  {
   "cell_type": "code",
   "execution_count": null,
   "metadata": {},
   "outputs": [],
   "source": []
  },
  {
   "cell_type": "code",
   "execution_count": 462,
   "metadata": {},
   "outputs": [],
   "source": [
    "#__SOLUTION__\n",
    "\n",
    "pts_in_circle = len(inside_x)\n",
    "pts_out_circle = len(outside_x)\n",
    "\n",
    "pi_est = 4*(pts_in_circle)/(pts_in_circle+pts_out_circle)\n",
    "pi_est_error_pct = (abs(pi_est-np.pi)/np.pi)*100\n",
    "\n",
    "pi_est_error_pct_rounded = np.round(pi_est_error_pct*100)/100"
   ]
  },
  {
   "cell_type": "markdown",
   "metadata": {},
   "source": [
    "Now, create a scatter plot of the \"inside circle\" points.  Color them blue, with alpha=.8 and edgecolor=None.\n",
    "\n",
    "Create another scatter plot of the \"outside circle\" points.  Color them red, same alpha / edgecolor as above.\n",
    "\n",
    "Plot both scatter plots in the same graph.\n",
    "\n",
    "Call the title of the graph \"Inscribed Circle in Unit Square to Estimate Pi\".  Below the graph, print out a sentence saying what the pi estimate and pct error are using the variables pi_est and pi_est_error_pct.  \n",
    "\n",
    "If you have time, try and figure out how to round to only include two digits in the pct error."
   ]
  },
  {
   "cell_type": "code",
   "execution_count": null,
   "metadata": {},
   "outputs": [],
   "source": []
  },
  {
   "cell_type": "code",
   "execution_count": 480,
   "metadata": {},
   "outputs": [
    {
     "data": {
      "image/png": "[encoded data removed]",
      "text/plain": [
       "<Figure size 1440x720 with 1 Axes>"
      ]
     },
     "metadata": {
      "needs_background": "light"
     },
     "output_type": "display_data"
    },
    {
     "name": "stdout",
     "output_type": "stream",
     "text": [
      "Using points from above graph, estimate of pi based on 1000 points is 3.164, w/ 0.71 % error\n"
     ]
    }
   ],
   "source": [
    "#__SOLUTION__\n",
    "\n",
    "fig, ax = plt.subplots(figsize=(20,10))\n",
    "\n",
    "ax.scatter(inside_x, inside_y, color='b', alpha=.8, edgecolor=None)\n",
    "ax.scatter(outside_x, outside_y, color='r', alpha=.8, edgecolor=None)\n",
    "ax.set_aspect('equal')\n",
    "ax.set_title(f'Circle Inscribed in Unit Square to Estimate Pi')\n",
    "plt.show()\n",
    "print(f'Using points from above graph, estimate of pi based on {pts_in_circle+pts_out_circle} points is {pi_est}, w/ {rounded} % error')"
   ]
  },
  {
   "cell_type": "markdown",
   "metadata": {},
   "source": [
    "If you have time, repeat the above steps for 100 points "
   ]
  },
  {
   "cell_type": "code",
   "execution_count": null,
   "metadata": {},
   "outputs": [],
   "source": []
  }
 ],
 "metadata": {
  "kernelspec": {
   "display_name": "Python 3",
   "language": "python",
   "name": "python3"
  },
  "language_info": {
   "codemirror_mode": {
    "name": "ipython",
    "version": 3
   },
   "file_extension": ".py",
   "mimetype": "text/x-python",
   "name": "python",
   "nbconvert_exporter": "python",
   "pygments_lexer": "ipython3",
   "version": "3.7.4"
  }
 },
 "nbformat": 4,
 "nbformat_minor": 4
}
