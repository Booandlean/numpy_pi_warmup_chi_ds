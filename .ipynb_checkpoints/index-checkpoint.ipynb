{
 "cells": [
  {
   "cell_type": "markdown",
   "metadata": {},
   "source": [
    "# To celebrate the end of your first week: a long warmup!\n",
    "\n",
    "# Part 1: Numpy practice"
   ]
  },
  {
   "cell_type": "markdown",
   "metadata": {},
   "source": [
    "(If you get stuck at one part, try the other part)\n",
    "\n",
    "Run the cell below to load the machinery for testing your work, and then \n",
    "\n",
    "- import the numpy library with the alias 'np'"
   ]
  },
  {
   "cell_type": "code",
   "execution_count": 130,
   "metadata": {},
   "outputs": [],
   "source": [
    "#Run this cell without changes\n",
    "\n",
    "from test_background import test_dict, run_test"
   ]
  },
  {
   "cell_type": "code",
   "execution_count": 131,
   "metadata": {},
   "outputs": [],
   "source": [
    "#__SOLUTION__\n",
    "\n",
    "#Run this cell without changes\n",
    "\n",
    "from test_background import test_dict, run_test"
   ]
  },
  {
   "cell_type": "code",
   "execution_count": 132,
   "metadata": {},
   "outputs": [],
   "source": [
    "#Your code here"
   ]
  },
  {
   "cell_type": "code",
   "execution_count": 133,
   "metadata": {},
   "outputs": [],
   "source": [
    "#__SOLUTION__\n",
    "\n",
    "#data manip\n",
    "import numpy as np\n",
    "\n",
    "#imports for testing\n",
    "import pickle as pkl\n",
    "from test_background import pkl_dump"
   ]
  },
  {
   "cell_type": "markdown",
   "metadata": {},
   "source": [
    "Create a variable called x that is a list of 100 0s"
   ]
  },
  {
   "cell_type": "code",
   "execution_count": 134,
   "metadata": {},
   "outputs": [],
   "source": [
    "#Your code here"
   ]
  },
  {
   "cell_type": "code",
   "execution_count": 135,
   "metadata": {},
   "outputs": [
    {
     "data": {
      "text/plain": [
       "[0,\n",
       " 0,\n",
       " 0,\n",
       " 0,\n",
       " 0,\n",
       " 0,\n",
       " 0,\n",
       " 0,\n",
       " 0,\n",
       " 0,\n",
       " 0,\n",
       " 0,\n",
       " 0,\n",
       " 0,\n",
       " 0,\n",
       " 0,\n",
       " 0,\n",
       " 0,\n",
       " 0,\n",
       " 0,\n",
       " 0,\n",
       " 0,\n",
       " 0,\n",
       " 0,\n",
       " 0,\n",
       " 0,\n",
       " 0,\n",
       " 0,\n",
       " 0,\n",
       " 0,\n",
       " 0,\n",
       " 0,\n",
       " 0,\n",
       " 0,\n",
       " 0,\n",
       " 0,\n",
       " 0,\n",
       " 0,\n",
       " 0,\n",
       " 0,\n",
       " 0,\n",
       " 0,\n",
       " 0,\n",
       " 0,\n",
       " 0,\n",
       " 0,\n",
       " 0,\n",
       " 0,\n",
       " 0,\n",
       " 0,\n",
       " 0,\n",
       " 0,\n",
       " 0,\n",
       " 0,\n",
       " 0,\n",
       " 0,\n",
       " 0,\n",
       " 0,\n",
       " 0,\n",
       " 0,\n",
       " 0,\n",
       " 0,\n",
       " 0,\n",
       " 0,\n",
       " 0,\n",
       " 0,\n",
       " 0,\n",
       " 0,\n",
       " 0,\n",
       " 0,\n",
       " 0,\n",
       " 0,\n",
       " 0,\n",
       " 0,\n",
       " 0,\n",
       " 0,\n",
       " 0,\n",
       " 0,\n",
       " 0,\n",
       " 0,\n",
       " 0,\n",
       " 0,\n",
       " 0,\n",
       " 0,\n",
       " 0,\n",
       " 0,\n",
       " 0,\n",
       " 0,\n",
       " 0,\n",
       " 0,\n",
       " 0,\n",
       " 0,\n",
       " 0,\n",
       " 0,\n",
       " 0,\n",
       " 0,\n",
       " 0,\n",
       " 0,\n",
       " 0,\n",
       " 0]"
      ]
     },
     "execution_count": 135,
     "metadata": {},
     "output_type": "execute_result"
    }
   ],
   "source": [
    "#__SOLUTION__\n",
    "\n",
    "x = [num for num in range(0,100)]\n",
    "\n",
    "#or\n",
    "x = [].extend(\n",
    "    range(0,100)\n",
    "    )\n",
    "\n",
    "#or\n",
    "x = []\n",
    "\n",
    "for num in range(0,100):\n",
    "    x.append(num)\n",
    "    \n",
    "#or\n",
    "\n",
    "x = [0]*100\n",
    "\n",
    "#used for testing\n",
    "# pkl_dump([(x, 'x1')])\n",
    "x"
   ]
  },
  {
   "cell_type": "code",
   "execution_count": 206,
   "metadata": {},
   "outputs": [],
   "source": [
    "#test by running this cell\n",
    "\n",
    "run_test(x, 'x1')"
   ]
  },
  {
   "cell_type": "code",
   "execution_count": 137,
   "metadata": {},
   "outputs": [
    {
     "data": {
      "text/plain": [
       "'Hey, you did it.  Good job.'"
      ]
     },
     "execution_count": 137,
     "metadata": {},
     "output_type": "execute_result"
    }
   ],
   "source": [
    "#__SOLUTION__\n",
    "\n",
    "#test by running this cell\n",
    "\n",
    "run_test(x, 'x1')"
   ]
  },
  {
   "cell_type": "markdown",
   "metadata": {},
   "source": [
    "Find another way to create a list of 100 0s; assign it to a new variable called y"
   ]
  },
  {
   "cell_type": "code",
   "execution_count": 138,
   "metadata": {},
   "outputs": [],
   "source": [
    "#Your code here"
   ]
  },
  {
   "cell_type": "code",
   "execution_count": 139,
   "metadata": {},
   "outputs": [
    {
     "data": {
      "text/plain": [
       "[0,\n",
       " 0,\n",
       " 0,\n",
       " 0,\n",
       " 0,\n",
       " 0,\n",
       " 0,\n",
       " 0,\n",
       " 0,\n",
       " 0,\n",
       " 0,\n",
       " 0,\n",
       " 0,\n",
       " 0,\n",
       " 0,\n",
       " 0,\n",
       " 0,\n",
       " 0,\n",
       " 0,\n",
       " 0,\n",
       " 0,\n",
       " 0,\n",
       " 0,\n",
       " 0,\n",
       " 0,\n",
       " 0,\n",
       " 0,\n",
       " 0,\n",
       " 0,\n",
       " 0,\n",
       " 0,\n",
       " 0,\n",
       " 0,\n",
       " 0,\n",
       " 0,\n",
       " 0,\n",
       " 0,\n",
       " 0,\n",
       " 0,\n",
       " 0,\n",
       " 0,\n",
       " 0,\n",
       " 0,\n",
       " 0,\n",
       " 0,\n",
       " 0,\n",
       " 0,\n",
       " 0,\n",
       " 0,\n",
       " 0,\n",
       " 0,\n",
       " 0,\n",
       " 0,\n",
       " 0,\n",
       " 0,\n",
       " 0,\n",
       " 0,\n",
       " 0,\n",
       " 0,\n",
       " 0,\n",
       " 0,\n",
       " 0,\n",
       " 0,\n",
       " 0,\n",
       " 0,\n",
       " 0,\n",
       " 0,\n",
       " 0,\n",
       " 0,\n",
       " 0,\n",
       " 0,\n",
       " 0,\n",
       " 0,\n",
       " 0,\n",
       " 0,\n",
       " 0,\n",
       " 0,\n",
       " 0,\n",
       " 0,\n",
       " 0,\n",
       " 0,\n",
       " 0,\n",
       " 0,\n",
       " 0,\n",
       " 0,\n",
       " 0,\n",
       " 0,\n",
       " 0,\n",
       " 0,\n",
       " 0,\n",
       " 0,\n",
       " 0,\n",
       " 0,\n",
       " 0,\n",
       " 0,\n",
       " 0,\n",
       " 0,\n",
       " 0,\n",
       " 0,\n",
       " 0]"
      ]
     },
     "execution_count": 139,
     "metadata": {},
     "output_type": "execute_result"
    }
   ],
   "source": [
    "#__SOLUTION__\n",
    "\n",
    "y = [num for num in range(0,100)]\n",
    "\n",
    "#or\n",
    "y = [].extend(\n",
    "    range(0,100)\n",
    "    )\n",
    "\n",
    "#or\n",
    "y = []\n",
    "\n",
    "for num in range(0,100):\n",
    "    y.append(num)\n",
    "    \n",
    "#or\n",
    "\n",
    "y = [0]*100\n",
    "\n",
    "#used for testing\n",
    "# pkl_dump([(y, 'y1')])\n",
    "y"
   ]
  },
  {
   "cell_type": "code",
   "execution_count": 205,
   "metadata": {},
   "outputs": [],
   "source": [
    "#test by running this cell\n",
    "\n",
    "run_test(y, 'y1')"
   ]
  },
  {
   "cell_type": "code",
   "execution_count": 141,
   "metadata": {},
   "outputs": [
    {
     "data": {
      "text/plain": [
       "'Hey, you did it.  Good job.'"
      ]
     },
     "execution_count": 141,
     "metadata": {},
     "output_type": "execute_result"
    }
   ],
   "source": [
    "#__SOLUTION__\n",
    "\n",
    "#test by running this cell\n",
    "\n",
    "run_test(y, 'y1')"
   ]
  },
  {
   "cell_type": "markdown",
   "metadata": {},
   "source": [
    "Turn x and y into numpy arrays"
   ]
  },
  {
   "cell_type": "code",
   "execution_count": 142,
   "metadata": {},
   "outputs": [],
   "source": [
    "#Your code here"
   ]
  },
  {
   "cell_type": "code",
   "execution_count": 143,
   "metadata": {},
   "outputs": [
    {
     "data": {
      "text/plain": [
       "(array([0, 0, 0, 0, 0, 0, 0, 0, 0, 0, 0, 0, 0, 0, 0, 0, 0, 0, 0, 0, 0, 0,\n",
       "        0, 0, 0, 0, 0, 0, 0, 0, 0, 0, 0, 0, 0, 0, 0, 0, 0, 0, 0, 0, 0, 0,\n",
       "        0, 0, 0, 0, 0, 0, 0, 0, 0, 0, 0, 0, 0, 0, 0, 0, 0, 0, 0, 0, 0, 0,\n",
       "        0, 0, 0, 0, 0, 0, 0, 0, 0, 0, 0, 0, 0, 0, 0, 0, 0, 0, 0, 0, 0, 0,\n",
       "        0, 0, 0, 0, 0, 0, 0, 0, 0, 0, 0, 0]),\n",
       " array([0, 0, 0, 0, 0, 0, 0, 0, 0, 0, 0, 0, 0, 0, 0, 0, 0, 0, 0, 0, 0, 0,\n",
       "        0, 0, 0, 0, 0, 0, 0, 0, 0, 0, 0, 0, 0, 0, 0, 0, 0, 0, 0, 0, 0, 0,\n",
       "        0, 0, 0, 0, 0, 0, 0, 0, 0, 0, 0, 0, 0, 0, 0, 0, 0, 0, 0, 0, 0, 0,\n",
       "        0, 0, 0, 0, 0, 0, 0, 0, 0, 0, 0, 0, 0, 0, 0, 0, 0, 0, 0, 0, 0, 0,\n",
       "        0, 0, 0, 0, 0, 0, 0, 0, 0, 0, 0, 0]))"
      ]
     },
     "execution_count": 143,
     "metadata": {},
     "output_type": "execute_result"
    }
   ],
   "source": [
    "#__SOLUTION__\n",
    "\n",
    "x = np.array(x)\n",
    "\n",
    "y = np.array(y)\n",
    "\n",
    "#used for testing\n",
    "# pkl_dump([pair for pair in zip([x, y], ['x2', 'y2'])])\n",
    "x,y"
   ]
  },
  {
   "cell_type": "code",
   "execution_count": 204,
   "metadata": {},
   "outputs": [],
   "source": [
    "#run this cell to test yer x\n",
    "\n",
    "run_test(x, 'x2')"
   ]
  },
  {
   "cell_type": "code",
   "execution_count": 145,
   "metadata": {},
   "outputs": [
    {
     "data": {
      "text/plain": [
       "'Hey, you did it.  Good job.'"
      ]
     },
     "execution_count": 145,
     "metadata": {},
     "output_type": "execute_result"
    }
   ],
   "source": [
    "#__SOLUTION__\n",
    "\n",
    "run_test(x, 'x2')"
   ]
  },
  {
   "cell_type": "code",
   "execution_count": 203,
   "metadata": {},
   "outputs": [],
   "source": [
    "#run this cell to test yer y\n",
    "\n",
    "run_test(y, 'y2')"
   ]
  },
  {
   "cell_type": "code",
   "execution_count": 147,
   "metadata": {},
   "outputs": [
    {
     "data": {
      "text/plain": [
       "'Hey, you did it.  Good job.'"
      ]
     },
     "execution_count": 147,
     "metadata": {},
     "output_type": "execute_result"
    }
   ],
   "source": [
    "#__SOLUTION__\n",
    "\n",
    "run_test(y, 'y2')"
   ]
  },
  {
   "cell_type": "markdown",
   "metadata": {},
   "source": [
    "In both x and y, insert all of the first 100 [positive integers](https://mathworld.wolfram.com/PositiveInteger.html) in-between the 0s\n",
    "\n",
    "With x, start inserting at index 0\n",
    "\n",
    "With y, start at index 1\n",
    "\n",
    "*Hint: couple ways to do this, but [here's one](https://numpy.org/doc/1.18/reference/generated/numpy.insert.html)*"
   ]
  },
  {
   "cell_type": "code",
   "execution_count": 148,
   "metadata": {},
   "outputs": [],
   "source": [
    "#Your code here"
   ]
  },
  {
   "cell_type": "code",
   "execution_count": 149,
   "metadata": {},
   "outputs": [
    {
     "data": {
      "text/plain": [
       "(array([  1,   0,   2,   0,   3,   0,   4,   0,   5,   0,   6,   0,   7,\n",
       "          0,   8,   0,   9,   0,  10,   0,  11,   0,  12,   0,  13,   0,\n",
       "         14,   0,  15,   0,  16,   0,  17,   0,  18,   0,  19,   0,  20,\n",
       "          0,  21,   0,  22,   0,  23,   0,  24,   0,  25,   0,  26,   0,\n",
       "         27,   0,  28,   0,  29,   0,  30,   0,  31,   0,  32,   0,  33,\n",
       "          0,  34,   0,  35,   0,  36,   0,  37,   0,  38,   0,  39,   0,\n",
       "         40,   0,  41,   0,  42,   0,  43,   0,  44,   0,  45,   0,  46,\n",
       "          0,  47,   0,  48,   0,  49,   0,  50,   0,  51,   0,  52,   0,\n",
       "         53,   0,  54,   0,  55,   0,  56,   0,  57,   0,  58,   0,  59,\n",
       "          0,  60,   0,  61,   0,  62,   0,  63,   0,  64,   0,  65,   0,\n",
       "         66,   0,  67,   0,  68,   0,  69,   0,  70,   0,  71,   0,  72,\n",
       "          0,  73,   0,  74,   0,  75,   0,  76,   0,  77,   0,  78,   0,\n",
       "         79,   0,  80,   0,  81,   0,  82,   0,  83,   0,  84,   0,  85,\n",
       "          0,  86,   0,  87,   0,  88,   0,  89,   0,  90,   0,  91,   0,\n",
       "         92,   0,  93,   0,  94,   0,  95,   0,  96,   0,  97,   0,  98,\n",
       "          0,  99,   0, 100,   0]),\n",
       " array([  0,   1,   0,   2,   0,   3,   0,   4,   0,   5,   0,   6,   0,\n",
       "          7,   0,   8,   0,   9,   0,  10,   0,  11,   0,  12,   0,  13,\n",
       "          0,  14,   0,  15,   0,  16,   0,  17,   0,  18,   0,  19,   0,\n",
       "         20,   0,  21,   0,  22,   0,  23,   0,  24,   0,  25,   0,  26,\n",
       "          0,  27,   0,  28,   0,  29,   0,  30,   0,  31,   0,  32,   0,\n",
       "         33,   0,  34,   0,  35,   0,  36,   0,  37,   0,  38,   0,  39,\n",
       "          0,  40,   0,  41,   0,  42,   0,  43,   0,  44,   0,  45,   0,\n",
       "         46,   0,  47,   0,  48,   0,  49,   0,  50,   0,  51,   0,  52,\n",
       "          0,  53,   0,  54,   0,  55,   0,  56,   0,  57,   0,  58,   0,\n",
       "         59,   0,  60,   0,  61,   0,  62,   0,  63,   0,  64,   0,  65,\n",
       "          0,  66,   0,  67,   0,  68,   0,  69,   0,  70,   0,  71,   0,\n",
       "         72,   0,  73,   0,  74,   0,  75,   0,  76,   0,  77,   0,  78,\n",
       "          0,  79,   0,  80,   0,  81,   0,  82,   0,  83,   0,  84,   0,\n",
       "         85,   0,  86,   0,  87,   0,  88,   0,  89,   0,  90,   0,  91,\n",
       "          0,  92,   0,  93,   0,  94,   0,  95,   0,  96,   0,  97,   0,\n",
       "         98,   0,  99,   0, 100]))"
      ]
     },
     "execution_count": 149,
     "metadata": {},
     "output_type": "execute_result"
    }
   ],
   "source": [
    "#__SOLUTION__\n",
    "\n",
    "x = np.insert(x, range(0, 100), range(1,101)) \n",
    "\n",
    "y = np.insert(y, range(1,101), range(1,101))\n",
    "\n",
    "#used for testing\n",
    "# pkl_dump([pair for pair in zip([x, y], ['x3', 'y3'])])\n",
    "\n",
    "x,y"
   ]
  },
  {
   "cell_type": "code",
   "execution_count": 202,
   "metadata": {},
   "outputs": [],
   "source": [
    "#run this cell to test yer x\n",
    "\n",
    "run_test(x, 'x3')"
   ]
  },
  {
   "cell_type": "code",
   "execution_count": 151,
   "metadata": {},
   "outputs": [
    {
     "data": {
      "text/plain": [
       "'Hey, you did it.  Good job.'"
      ]
     },
     "execution_count": 151,
     "metadata": {},
     "output_type": "execute_result"
    }
   ],
   "source": [
    "#__SOLUTION__\n",
    "\n",
    "run_test(x, 'x3')"
   ]
  },
  {
   "cell_type": "code",
   "execution_count": 201,
   "metadata": {},
   "outputs": [],
   "source": [
    "#run this cell to test yer y\n",
    "\n",
    "run_test(y, 'y3')"
   ]
  },
  {
   "cell_type": "code",
   "execution_count": 153,
   "metadata": {},
   "outputs": [
    {
     "data": {
      "text/plain": [
       "'Hey, you did it.  Good job.'"
      ]
     },
     "execution_count": 153,
     "metadata": {},
     "output_type": "execute_result"
    }
   ],
   "source": [
    "#__SOLUTION__\n",
    "\n",
    "run_test(y, 'y3')"
   ]
  },
  {
   "cell_type": "markdown",
   "metadata": {},
   "source": [
    "Remove all the 0s from both x and y\n",
    "\n",
    "Use different methods of removal for x and y"
   ]
  },
  {
   "cell_type": "code",
   "execution_count": 154,
   "metadata": {},
   "outputs": [],
   "source": [
    "#Your code here"
   ]
  },
  {
   "cell_type": "code",
   "execution_count": 155,
   "metadata": {},
   "outputs": [
    {
     "data": {
      "text/plain": [
       "(array([  1,   2,   3,   4,   5,   6,   7,   8,   9,  10,  11,  12,  13,\n",
       "         14,  15,  16,  17,  18,  19,  20,  21,  22,  23,  24,  25,  26,\n",
       "         27,  28,  29,  30,  31,  32,  33,  34,  35,  36,  37,  38,  39,\n",
       "         40,  41,  42,  43,  44,  45,  46,  47,  48,  49,  50,  51,  52,\n",
       "         53,  54,  55,  56,  57,  58,  59,  60,  61,  62,  63,  64,  65,\n",
       "         66,  67,  68,  69,  70,  71,  72,  73,  74,  75,  76,  77,  78,\n",
       "         79,  80,  81,  82,  83,  84,  85,  86,  87,  88,  89,  90,  91,\n",
       "         92,  93,  94,  95,  96,  97,  98,  99, 100]),\n",
       " array([  1,   2,   3,   4,   5,   6,   7,   8,   9,  10,  11,  12,  13,\n",
       "         14,  15,  16,  17,  18,  19,  20,  21,  22,  23,  24,  25,  26,\n",
       "         27,  28,  29,  30,  31,  32,  33,  34,  35,  36,  37,  38,  39,\n",
       "         40,  41,  42,  43,  44,  45,  46,  47,  48,  49,  50,  51,  52,\n",
       "         53,  54,  55,  56,  57,  58,  59,  60,  61,  62,  63,  64,  65,\n",
       "         66,  67,  68,  69,  70,  71,  72,  73,  74,  75,  76,  77,  78,\n",
       "         79,  80,  81,  82,  83,  84,  85,  86,  87,  88,  89,  90,  91,\n",
       "         92,  93,  94,  95,  96,  97,  98,  99, 100]))"
      ]
     },
     "execution_count": 155,
     "metadata": {},
     "output_type": "execute_result"
    }
   ],
   "source": [
    "#__SOLUTION__\n",
    "\n",
    "x = x[x!=0]\n",
    "\n",
    "y = y[1::2]\n",
    "\n",
    "#used for testing\n",
    "# pkl_dump([pair for pair in zip([x, y], ['x4', 'y4'])])\n",
    "\n",
    "x,y"
   ]
  },
  {
   "cell_type": "code",
   "execution_count": 200,
   "metadata": {},
   "outputs": [],
   "source": [
    "#run this cell to test yer x\n",
    "\n",
    "run_test(x, 'x4')"
   ]
  },
  {
   "cell_type": "code",
   "execution_count": 157,
   "metadata": {},
   "outputs": [
    {
     "data": {
      "text/plain": [
       "'Hey, you did it.  Good job.'"
      ]
     },
     "execution_count": 157,
     "metadata": {},
     "output_type": "execute_result"
    }
   ],
   "source": [
    "#__SOLUTION__\n",
    "\n",
    "run_test(x, 'x4')"
   ]
  },
  {
   "cell_type": "code",
   "execution_count": 199,
   "metadata": {},
   "outputs": [],
   "source": [
    "#run this cell to test yer y\n",
    "\n",
    "run_test(y, 'y4')"
   ]
  },
  {
   "cell_type": "code",
   "execution_count": 159,
   "metadata": {},
   "outputs": [
    {
     "data": {
      "text/plain": [
       "'Hey, you did it.  Good job.'"
      ]
     },
     "execution_count": 159,
     "metadata": {},
     "output_type": "execute_result"
    }
   ],
   "source": [
    "#__SOLUTION__\n",
    "\n",
    "run_test(y, 'y4')"
   ]
  },
  {
   "cell_type": "markdown",
   "metadata": {},
   "source": [
    "# Part 2: Estimating pi (with vis!)\n",
    "\n",
    "(This is a little bit more math-y than the content we've covered so far)\n",
    "\n",
    "First import pyplot from matplotlib under the alias plt\n",
    "\n",
    "Also, run the commend %matplotlib inline so that jupyter renders the plots inside the notebook"
   ]
  },
  {
   "cell_type": "code",
   "execution_count": 160,
   "metadata": {},
   "outputs": [],
   "source": [
    "#Your code here"
   ]
  },
  {
   "cell_type": "code",
   "execution_count": 161,
   "metadata": {},
   "outputs": [],
   "source": [
    "#__SOLUTION__\n",
    "\n",
    "#data viz\n",
    "import matplotlib.pyplot as plt\n",
    "\n",
    "#jn command that renders matplotlib inline\n",
    "%matplotlib inline"
   ]
  },
  {
   "cell_type": "markdown",
   "metadata": {},
   "source": [
    "Picture a circle perfectly circumscribed inside a unit square\n",
    "\n",
    "or run the cell below"
   ]
  },
  {
   "cell_type": "code",
   "execution_count": 162,
   "metadata": {},
   "outputs": [
    {
     "data": {
      "image/png": "[encoded data removed]",
      "text/plain": [
       "<Figure size 432x288 with 1 Axes>"
      ]
     },
     "metadata": {
      "needs_background": "light"
     },
     "output_type": "display_data"
    }
   ],
   "source": [
    "#run this cell without changes\n",
    "\n",
    "square = plt.Rectangle((0,0), 1,1, fill=False, color='blue')\n",
    "circle = plt.Circle((.5, .5), .5, color='yellow')\n",
    "\n",
    "fig, ax = plt.subplots()\n",
    "ax.add_artist(square)\n",
    "ax.add_artist(circle)\n",
    "\n",
    "#set the axis a little beyond the square\n",
    "ax.set_xlim(right=1.5)\n",
    "ax.set_ylim(top=1.5)\n",
    "\n",
    "#make the aspect ratios on dimensions the same\n",
    "ax.set_aspect('equal')\n",
    "\n",
    "#remove the border from the top and right side of the figure\n",
    "ax.spines['top'].set_visible(False)\n",
    "ax.spines['right'].set_visible(False)\n",
    "\n",
    "plt.show()"
   ]
  },
  {
   "cell_type": "code",
   "execution_count": 163,
   "metadata": {},
   "outputs": [
    {
     "data": {
      "image/png": "[encoded data removed]",
      "text/plain": [
       "<Figure size 432x288 with 1 Axes>"
      ]
     },
     "metadata": {
      "needs_background": "light"
     },
     "output_type": "display_data"
    }
   ],
   "source": [
    "#__SOLUTION__\n",
    "\n",
    "#run this cell without changes\n",
    "\n",
    "square = plt.Rectangle((0,0), 1,1, fill=False, color='blue')\n",
    "circle = plt.Circle((.5, .5), .5, color='yellow')\n",
    "\n",
    "fig, ax = plt.subplots()\n",
    "ax.add_artist(square)\n",
    "ax.add_artist(circle)\n",
    "\n",
    "#set the axis a little beyond the square\n",
    "ax.set_xlim(right=1.5)\n",
    "ax.set_ylim(top=1.5)\n",
    "\n",
    "#make the aspect ratios on dimensions the same\n",
    "ax.set_aspect('equal')\n",
    "\n",
    "#remove the border from the top and right side of the figure\n",
    "ax.spines['top'].set_visible(False)\n",
    "ax.spines['right'].set_visible(False)\n",
    "\n",
    "plt.show()"
   ]
  },
  {
   "cell_type": "markdown",
   "metadata": {},
   "source": [
    "#### Math refresher\n",
    "\n",
    "The area of the unit square is 1\n",
    "\n",
    "The radius of the circle is $\\frac{1}{2}$, and the area of the circle is $\\pi \\times (\\frac{1}{2})^2 = \\frac{\\pi}{4}$\n",
    "\n",
    "If we randomly throw points inside the square: \n",
    "\n",
    "$$ \\lim \\limits_{points \\to \\infty} (\\mbox{area covered by all points}) = 1 $$\n",
    "\n",
    "and\n",
    "\n",
    "$$ \\lim \\limits_{{points} \\to \\infty} (\\mbox{area covered by points in circle}) = \\frac{\\pi}{4} $$\n",
    "\n",
    "So, if we randomly throw *a finite number* of points in the square,\n",
    "\n",
    " $$ \\frac{\\mbox{points that land in circle}}{\\mbox{total points}} \\approx \\frac{\\pi}{4} $$"
   ]
  },
  {
   "cell_type": "markdown",
   "metadata": {},
   "source": [
    "and\n",
    "\n",
    "$$ 4 \\times \\frac{\\mbox{points that land in circle}}{\\mbox{total points}} \\approx \\pi $$"
   ]
  },
  {
   "cell_type": "markdown",
   "metadata": {},
   "source": [
    "#### Look just tell me what we're doing here\n",
    "\n",
    "We're going to create a plot that, inside of a unit square whose lower-left corner is at (0,0):\n",
    "- plots 1000 random points\n",
    "- colors them differently if they're inside or outside an inscribed circle\n",
    "\n",
    "Then, we'll calculate our estimate for pi \n",
    "\n",
    "Two s t r e t c h goals:\n",
    "- calculate the error of the estimate\n",
    "- turn our work into a function that can recreate what we've done with an arbitrary number of points"
   ]
  },
  {
   "cell_type": "markdown",
   "metadata": {},
   "source": [
    "#### Let's graph\n",
    "\n",
    "First we're going to create the points to throw inside the square.\n",
    "\n",
    "- Use numpy to create a variable `x` that has 1000 randomly drawn floats (a numerical data type which has decimals, as opposed to `integers` which don't) between 0 and 1.\n",
    "\n",
    "- Use numpy to creat another variable `y` that has a different set of 1000 randomly-drawn floats b/t 0 and 1.\n",
    "\n",
    "These are the x and y coordinates for the random points we'll throw at the square and inscribed circle\n",
    "\n",
    "- Also, run `np.random.seed(33)` at the top of the cell\n",
    "\n",
    "This \"seeds\" the pseudorandom number generator to produce the same numbers each time the variables are instantiated\n",
    "\n",
    "[*Hint*](https://numpy.org/devdocs/reference/random/generated/numpy.random.random.html?highlight=random%20random#numpy.random.random)"
   ]
  },
  {
   "cell_type": "code",
   "execution_count": 164,
   "metadata": {},
   "outputs": [],
   "source": [
    "#Your code here"
   ]
  },
  {
   "cell_type": "code",
   "execution_count": 165,
   "metadata": {},
   "outputs": [],
   "source": [
    "#__SOLUTION__\n",
    "np.random.seed(33)\n",
    "x = np.random.random(int(1000))\n",
    "y = np.random.random(int(1000))\n",
    "\n",
    "#used for testing\n",
    "# pkl_dump([pair for pair in zip([x, y], ['x5', 'y5'])])"
   ]
  },
  {
   "cell_type": "code",
   "execution_count": 166,
   "metadata": {},
   "outputs": [
    {
     "data": {
      "text/plain": [
       "'Hey, you did it.  Good job.'"
      ]
     },
     "execution_count": 166,
     "metadata": {},
     "output_type": "execute_result"
    }
   ],
   "source": [
    "#run this cell to check yer x\n",
    "\n",
    "run_test(x, 'x5')"
   ]
  },
  {
   "cell_type": "code",
   "execution_count": 167,
   "metadata": {},
   "outputs": [
    {
     "data": {
      "text/plain": [
       "'Hey, you did it.  Good job.'"
      ]
     },
     "execution_count": 167,
     "metadata": {},
     "output_type": "execute_result"
    }
   ],
   "source": [
    "#__SOLUTION__\n",
    "\n",
    "run_test(x, 'x5')"
   ]
  },
  {
   "cell_type": "code",
   "execution_count": 168,
   "metadata": {},
   "outputs": [
    {
     "data": {
      "text/plain": [
       "'Hey, you did it.  Good job.'"
      ]
     },
     "execution_count": 168,
     "metadata": {},
     "output_type": "execute_result"
    }
   ],
   "source": [
    "#run this cell to check yer y\n",
    "\n",
    "run_test(y, 'y5')"
   ]
  },
  {
   "cell_type": "code",
   "execution_count": 169,
   "metadata": {},
   "outputs": [
    {
     "data": {
      "text/plain": [
       "'Hey, you did it.  Good job.'"
      ]
     },
     "execution_count": 169,
     "metadata": {},
     "output_type": "execute_result"
    }
   ],
   "source": [
    "#__SOLUTION__\n",
    "\n",
    "run_test(y, 'y5')"
   ]
  },
  {
   "cell_type": "markdown",
   "metadata": {},
   "source": [
    "The x and y coordinates of the points inside the circle are \n",
    "$$ (x^2 + y^2)<=\\frac{1}{2} $$\n",
    "\n",
    "Select all the points in x inside the circle and assign them to the variable inside_x\n",
    "\n",
    "Do the same thing for the points in y, and assign them to the variable inside_y\n",
    "\n",
    "\n",
    "*Hint 1: For 1D arrays, addition and multiplication operates element by element.  Boolean selection of a 1D array also operates element by element.* \n",
    "\n",
    "*Eg if `ex1 = np.array([1,2,3])` and `ex2 = np.array([5,6,7])`*, \n",
    "\n",
    "\\begin{align}\n",
    "ex1[ex1*5+ex2*10<80] \\\\\n",
    "= \\\\ \n",
    "\\mbox{\"at each index value}, \\\\\n",
    "\\mbox{if (the value of ex1 at that index)*5 +} \\\\\n",
    "\\mbox{(the value of ex2 at that index)*10 < 80}, \\\\\n",
    "\\mbox{include the value of ex1 at that index\"} \\\\\n",
    "= \\\\\n",
    "[1,2] \n",
    "\\end{align}\n",
    "\n",
    "\n",
    "*Hint 2: the formula for a circle centered at (h,k) with radius r is* \n",
    "    $$(x-h)^2 + (y-k)^2 = r^2$$\n",
    "*Where is the center of a circle inscribed in a unit square whose lower-left corner is at (0,0)?  Are points inside the circle greater than or less than $r^2$?*"
   ]
  },
  {
   "cell_type": "code",
   "execution_count": 170,
   "metadata": {},
   "outputs": [],
   "source": [
    "#Your code here"
   ]
  },
  {
   "cell_type": "code",
   "execution_count": 171,
   "metadata": {},
   "outputs": [],
   "source": [
    "#__SOLUTION__\n",
    "\n",
    "inside_x,  inside_y  = x[(x-.5)**2+(y-.5)**2<(.5)**2], y[(x-.5)**2+(y-.5)**2<(.5)**2]\n",
    "\n",
    "#used for testing\n",
    "# pkl_dump([pair for pair \n",
    "#           in zip(\n",
    "#               [inside_x, inside_y], \n",
    "#               ['inside_x', 'inside_y']\n",
    "#           )\n",
    "#          ]\n",
    "# )\n"
   ]
  },
  {
   "cell_type": "code",
   "execution_count": 198,
   "metadata": {},
   "outputs": [],
   "source": [
    "#run this cell to check inside_x\n",
    "\n",
    "run_test(inside_x, 'inside_x')"
   ]
  },
  {
   "cell_type": "code",
   "execution_count": 173,
   "metadata": {},
   "outputs": [
    {
     "data": {
      "text/plain": [
       "'Hey, you did it.  Good job.'"
      ]
     },
     "execution_count": 173,
     "metadata": {},
     "output_type": "execute_result"
    }
   ],
   "source": [
    "#__SOLUTION__\n",
    "run_test(inside_x, 'inside_x')"
   ]
  },
  {
   "cell_type": "code",
   "execution_count": 197,
   "metadata": {},
   "outputs": [],
   "source": [
    "#run this cell to check inside_y\n",
    "\n",
    "run_test(inside_y, 'inside_y')"
   ]
  },
  {
   "cell_type": "code",
   "execution_count": 175,
   "metadata": {},
   "outputs": [
    {
     "data": {
      "text/plain": [
       "'Hey, you did it.  Good job.'"
      ]
     },
     "execution_count": 175,
     "metadata": {},
     "output_type": "execute_result"
    }
   ],
   "source": [
    "#__SOLUTION__\n",
    "run_test(inside_y, 'inside_y')"
   ]
  },
  {
   "cell_type": "markdown",
   "metadata": {},
   "source": [
    "Do the same thing for the points that lie within the square but outside the circle\n",
    "\n",
    "Ie, select all the points in x and y that satisfy the condition\n",
    "$$ (x^2 + y^2)>\\frac{1}{2} $$\n",
    "assign them to the variables outside_x and outside_y, respectively"
   ]
  },
  {
   "cell_type": "code",
   "execution_count": 176,
   "metadata": {},
   "outputs": [],
   "source": [
    "#Your code here"
   ]
  },
  {
   "cell_type": "code",
   "execution_count": 177,
   "metadata": {},
   "outputs": [],
   "source": [
    "#__SOLUTION__\n",
    "\n",
    "outside_x, outside_y = x[(x-.5)**2+(y-.5)**2>(.5)**2], y[(x-.5)**2+(y-.5)**2>(.5)**2]\n",
    "\n",
    "#used for tests\n",
    "# pkl_dump([pair for pair \n",
    "#           in zip(\n",
    "#               [outside_x, outside_y], \n",
    "#               ['outside_x', 'outside_y']\n",
    "#           )\n",
    "#          ]\n",
    "# )\n"
   ]
  },
  {
   "cell_type": "code",
   "execution_count": 196,
   "metadata": {},
   "outputs": [],
   "source": [
    "# #run this cell to check outside_x\n",
    "\n",
    "run_test(outside_x, 'outside_x')"
   ]
  },
  {
   "cell_type": "code",
   "execution_count": 179,
   "metadata": {},
   "outputs": [
    {
     "data": {
      "text/plain": [
       "'Hey, you did it.  Good job.'"
      ]
     },
     "execution_count": 179,
     "metadata": {},
     "output_type": "execute_result"
    }
   ],
   "source": [
    "#__SOLUTION__\n",
    "\n",
    "#run this cell to check outside_x\n",
    "\n",
    "run_test(outside_x, 'outside_x')"
   ]
  },
  {
   "cell_type": "code",
   "execution_count": 195,
   "metadata": {},
   "outputs": [],
   "source": [
    "#run this cell to check outside_y\n",
    "\n",
    "run_test(outside_y, 'outside_y')"
   ]
  },
  {
   "cell_type": "code",
   "execution_count": 181,
   "metadata": {},
   "outputs": [
    {
     "data": {
      "text/plain": [
       "'Hey, you did it.  Good job.'"
      ]
     },
     "execution_count": 181,
     "metadata": {},
     "output_type": "execute_result"
    }
   ],
   "source": [
    "#__SOLUTION__\n",
    "\n",
    "#run this cell to check outside_y\n",
    "\n",
    "run_test(outside_y, 'outside_y')"
   ]
  },
  {
   "cell_type": "markdown",
   "metadata": {},
   "source": [
    "Now, create a scatter plot of the \"inside circle\" points.  Color them blue, with alpha=.8 and edgecolor=None.\n",
    "\n",
    "Create another scatter plot of the \"outside circle\" points.  Color them red, same alpha / edgecolor as above.\n",
    "\n",
    "Plot both scatter plots in the same graph.\n",
    "\n",
    "Call the title of the graph \"Random Points Distributed across Inscribed Circle in Unit Square to Estimate Pi\".  "
   ]
  },
  {
   "cell_type": "code",
   "execution_count": 182,
   "metadata": {},
   "outputs": [],
   "source": [
    "#Your code here"
   ]
  },
  {
   "cell_type": "code",
   "execution_count": 183,
   "metadata": {},
   "outputs": [
    {
     "data": {
      "image/png": "[encoded data removed]",
      "text/plain": [
       "<Figure size 1440x720 with 1 Axes>"
      ]
     },
     "metadata": {
      "needs_background": "light"
     },
     "output_type": "display_data"
    }
   ],
   "source": [
    "#__SOLUTION__\n",
    "\n",
    "fig, ax = plt.subplots(figsize=(20,10))\n",
    "\n",
    "ax.scatter(inside_x, inside_y, color='b', alpha=.8, edgecolor=None)\n",
    "ax.scatter(outside_x, outside_y, color='r', alpha=.8, edgecolor=None)\n",
    "ax.set_aspect('equal')\n",
    "ax.set_xlabel('X-axis')\n",
    "ax.set_ylabel('Y-axis')\n",
    "ax.set_title('Random Points Distributed across Inscribed Circle in Unit Square to Estimate Pi')\n",
    "\n",
    "\n",
    "plt.savefig('viz/delicious_pi.png')\n",
    "plt.show()"
   ]
  },
  {
   "cell_type": "markdown",
   "metadata": {},
   "source": [
    "You should produce a figure like the one below (which has a figsize(20,10) and used ax.set_aspect('equal'), fyi)\n",
    "\n",
    "![](viz/delicious_pi.png)"
   ]
  },
  {
   "cell_type": "markdown",
   "metadata": {},
   "source": [
    "#### Calculate Estimate"
   ]
  },
  {
   "cell_type": "markdown",
   "metadata": {},
   "source": [
    "Now, calculate your $\\pi$ estimate\n",
    "\n",
    "Create the following variables:\n",
    "- the number of pts inside the circle\n",
    "    - name this variable pts_in_circle\n",
    "    \n",
    "    \n",
    "- the number of pts outside the circle\n",
    "    - name this variable pts_out_circle\n",
    "    \n",
    "    \n",
    "- an estimate for $\\pi$ that uses pts_in_circle and pts_out_circle\n",
    "    - name this variable pi_est\n",
    "\n",
    "**S t r e t c h goal 1**\n",
    "    \n",
    "- a calculation of the pct error of pi_est \n",
    "    - name this variable pi_est_error_pct\n",
    "    \n",
    "Print a sentence using the above variables that includes the estimate of pi and how many points it's based on \n",
    "\n",
    "(and the error, if you get that far)"
   ]
  },
  {
   "cell_type": "code",
   "execution_count": 184,
   "metadata": {},
   "outputs": [],
   "source": [
    "#Your code here"
   ]
  },
  {
   "cell_type": "code",
   "execution_count": 185,
   "metadata": {},
   "outputs": [
    {
     "name": "stdout",
     "output_type": "stream",
     "text": [
      "\n",
      "Using points from above graph, \n",
      "estimate of pi based on 1000 points \n",
      "is 3.052, w/ 2.85 % error\n",
      "\n"
     ]
    }
   ],
   "source": [
    "#__SOLUTION__\n",
    "\n",
    "pts_in_circle = len(inside_x)\n",
    "pts_out_circle = len(outside_x)\n",
    "\n",
    "pi_est = 4*(pts_in_circle)/(pts_in_circle+pts_out_circle)\n",
    "pi_est_error_pct = (abs(pi_est-np.pi)/np.pi)*100\n",
    "\n",
    "pi_est_error_pct_rounded = np.round(pi_est_error_pct*100)/100\n",
    "\n",
    "print(\n",
    "f'''\n",
    "Using points from above graph, \n",
    "estimate of pi based on {pts_in_circle+pts_out_circle} points \n",
    "is {pi_est}, w/ {pi_est_error_pct_rounded} % error\n",
    "'''\n",
    ")\n",
    "\n",
    "#used for tests\n",
    "objects = [\n",
    "    pts_in_circle, \n",
    "    pts_out_circle,\n",
    "    pi_est,\n",
    "    pi_est_error_pct,\n",
    "    pi_est_error_pct_rounded\n",
    "]\n",
    "\n",
    "obj_names = [\n",
    "    'pts_in_circle',\n",
    "    'pts_out_circle',\n",
    "    'pi_est',\n",
    "    'pi_est_error_pct',\n",
    "    'pi_est_error_pct_rounded'\n",
    "]\n",
    "# pkl_dump([pair for pair in zip(objects, obj_names)])\n",
    "\n",
    "objects=objects[:-2]\n",
    "obj_names = obj_names[:-2]"
   ]
  },
  {
   "cell_type": "code",
   "execution_count": 194,
   "metadata": {},
   "outputs": [],
   "source": [
    "#run this cell to test pts_in_circle, pts_out_circle, pi_est\n",
    "\n",
    "[\n",
    "    print(pair[1]+f'? {run_test(pair[0], pair[1])}')\n",
    "    for pair in \n",
    "    zip(objects, obj_names)\n",
    "]\n",
    "print()"
   ]
  },
  {
   "cell_type": "code",
   "execution_count": 187,
   "metadata": {},
   "outputs": [
    {
     "name": "stdout",
     "output_type": "stream",
     "text": [
      "pts_in_circle?  Hey, you did it.  Good job.\n",
      "pts_out_circle?  Hey, you did it.  Good job.\n",
      "pi_est?  Hey, you did it.  Good job.\n",
      "\n"
     ]
    }
   ],
   "source": [
    "#__SOLUTION__\n",
    "\n",
    "[\n",
    "    print(pair[1]+'? ', run_test(pair[0], pair[1]))\n",
    "    for pair in\n",
    "    zip(objects, obj_names)\n",
    "    \n",
    "]\n",
    "print()"
   ]
  },
  {
   "cell_type": "code",
   "execution_count": 193,
   "metadata": {},
   "outputs": [],
   "source": [
    "#run this cell to test pct error\n",
    "\n",
    "run_test(pi_est_error_pct, 'pi_est_error_pct')"
   ]
  },
  {
   "cell_type": "code",
   "execution_count": 189,
   "metadata": {},
   "outputs": [
    {
     "data": {
      "text/plain": [
       "'Hey, you did it.  Good job.'"
      ]
     },
     "execution_count": 189,
     "metadata": {},
     "output_type": "execute_result"
    }
   ],
   "source": [
    "#__SOLUTION__\n",
    "run_test(pi_est_error_pct, 'pi_est_error_pct')"
   ]
  },
  {
   "cell_type": "code",
   "execution_count": 192,
   "metadata": {},
   "outputs": [],
   "source": [
    "#run this cell to test rounded pct error\n",
    "\n",
    "run_test(pi_est_error_pct_rounded, 'pi_est_error_pct_rounded')"
   ]
  },
  {
   "cell_type": "code",
   "execution_count": 191,
   "metadata": {},
   "outputs": [
    {
     "data": {
      "text/plain": [
       "'Hey, you did it.  Good job.'"
      ]
     },
     "execution_count": 191,
     "metadata": {},
     "output_type": "execute_result"
    }
   ],
   "source": [
    "#__SOLUTION__\n",
    "\n",
    "run_test(pi_est_error_pct_rounded, 'pi_est_error_pct_rounded')"
   ]
  },
  {
   "cell_type": "markdown",
   "metadata": {},
   "source": [
    "**S t r e t c h goal 2**\n",
    "\n",
    "\n",
    "Turn your work into a function that:\n",
    "\n",
    "- can take as a parameter an arbitrary number of points to estimate pi\n",
    "\n",
    "- prints a graph like the one above\n",
    "\n",
    "- returns {'pi_estimate': pi_est, 'est_error_pct': pi_est_error_pct} "
   ]
  },
  {
   "cell_type": "code",
   "execution_count": null,
   "metadata": {},
   "outputs": [],
   "source": []
  }
 ],
 "metadata": {
  "kernelspec": {
   "display_name": "Python 3",
   "language": "python",
   "name": "python3"
  },
  "language_info": {
   "codemirror_mode": {
    "name": "ipython",
    "version": 3
   },
   "file_extension": ".py",
   "mimetype": "text/x-python",
   "name": "python",
   "nbconvert_exporter": "python",
   "pygments_lexer": "ipython3",
   "version": "3.7.4"
  }
 },
 "nbformat": 4,
 "nbformat_minor": 4
}
